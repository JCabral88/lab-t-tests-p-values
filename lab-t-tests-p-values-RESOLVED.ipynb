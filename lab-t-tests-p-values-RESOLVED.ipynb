{
 "cells": [
  {
   "cell_type": "markdown",
   "id": "3011cd1f",
   "metadata": {},
   "source": [
    "One tailed t-test - In a packing plant, a machine packs cartons with jars. It is supposed that a new machine will pack faster on the average than the machine currently used. To test that hypothesis, the times it takes each machine to pack ten cartons are recorded. The results, in seconds, are shown in the tables in the file files_for_lab/machine.txt. Assume that there is sufficient evidence to conduct the t test, does the data provide sufficient evidence to show if one machine is better than the other?"
   ]
  },
  {
   "cell_type": "code",
   "execution_count": 78,
   "id": "d0ad3d86",
   "metadata": {},
   "outputs": [],
   "source": [
    "import pandas as pd\n",
    "import numpy as np\n",
    "import scipy.stats as st\n",
    "import matplotlib.pyplot as plt\n",
    "import seaborn as sns"
   ]
  },
  {
   "cell_type": "code",
   "execution_count": 79,
   "id": "b7afb0bc",
   "metadata": {},
   "outputs": [
    {
     "data": {
      "text/html": [
       "<div>\n",
       "<style scoped>\n",
       "    .dataframe tbody tr th:only-of-type {\n",
       "        vertical-align: middle;\n",
       "    }\n",
       "\n",
       "    .dataframe tbody tr th {\n",
       "        vertical-align: top;\n",
       "    }\n",
       "\n",
       "    .dataframe thead th {\n",
       "        text-align: right;\n",
       "    }\n",
       "</style>\n",
       "<table border=\"1\" class=\"dataframe\">\n",
       "  <thead>\n",
       "    <tr style=\"text-align: right;\">\n",
       "      <th></th>\n",
       "      <th>New machine</th>\n",
       "      <th>Old</th>\n",
       "      <th>machine</th>\n",
       "    </tr>\n",
       "  </thead>\n",
       "  <tbody>\n",
       "    <tr>\n",
       "      <th>0</th>\n",
       "      <td>42.1</td>\n",
       "      <td>42.7</td>\n",
       "      <td>NaN</td>\n",
       "    </tr>\n",
       "    <tr>\n",
       "      <th>1</th>\n",
       "      <td>41.0</td>\n",
       "      <td>43.6</td>\n",
       "      <td>NaN</td>\n",
       "    </tr>\n",
       "    <tr>\n",
       "      <th>2</th>\n",
       "      <td>41.3</td>\n",
       "      <td>43.8</td>\n",
       "      <td>NaN</td>\n",
       "    </tr>\n",
       "    <tr>\n",
       "      <th>3</th>\n",
       "      <td>41.8</td>\n",
       "      <td>43.3</td>\n",
       "      <td>NaN</td>\n",
       "    </tr>\n",
       "    <tr>\n",
       "      <th>4</th>\n",
       "      <td>42.4</td>\n",
       "      <td>42.5</td>\n",
       "      <td>NaN</td>\n",
       "    </tr>\n",
       "  </tbody>\n",
       "</table>\n",
       "</div>"
      ],
      "text/plain": [
       "   New machine   Old  machine\n",
       "0         42.1  42.7      NaN\n",
       "1         41.0  43.6      NaN\n",
       "2         41.3  43.8      NaN\n",
       "3         41.8  43.3      NaN\n",
       "4         42.4  42.5      NaN"
      ]
     },
     "execution_count": 79,
     "metadata": {},
     "output_type": "execute_result"
    }
   ],
   "source": [
    "data = pd.read_fwf('C:/Users/JC88Main/Week7/Day2/Lab/lab-t-tests-p-values-master/files_for_lab/machine.txt', encoding = 'utf-16')\n",
    "data.head()"
   ]
  },
  {
   "cell_type": "code",
   "execution_count": 80,
   "id": "dd5973cf",
   "metadata": {},
   "outputs": [
    {
     "data": {
      "text/html": [
       "<div>\n",
       "<style scoped>\n",
       "    .dataframe tbody tr th:only-of-type {\n",
       "        vertical-align: middle;\n",
       "    }\n",
       "\n",
       "    .dataframe tbody tr th {\n",
       "        vertical-align: top;\n",
       "    }\n",
       "\n",
       "    .dataframe thead th {\n",
       "        text-align: right;\n",
       "    }\n",
       "</style>\n",
       "<table border=\"1\" class=\"dataframe\">\n",
       "  <thead>\n",
       "    <tr style=\"text-align: right;\">\n",
       "      <th></th>\n",
       "      <th>New machine</th>\n",
       "      <th>Old</th>\n",
       "    </tr>\n",
       "  </thead>\n",
       "  <tbody>\n",
       "    <tr>\n",
       "      <th>0</th>\n",
       "      <td>42.1</td>\n",
       "      <td>42.7</td>\n",
       "    </tr>\n",
       "    <tr>\n",
       "      <th>1</th>\n",
       "      <td>41.0</td>\n",
       "      <td>43.6</td>\n",
       "    </tr>\n",
       "    <tr>\n",
       "      <th>2</th>\n",
       "      <td>41.3</td>\n",
       "      <td>43.8</td>\n",
       "    </tr>\n",
       "    <tr>\n",
       "      <th>3</th>\n",
       "      <td>41.8</td>\n",
       "      <td>43.3</td>\n",
       "    </tr>\n",
       "    <tr>\n",
       "      <th>4</th>\n",
       "      <td>42.4</td>\n",
       "      <td>42.5</td>\n",
       "    </tr>\n",
       "  </tbody>\n",
       "</table>\n",
       "</div>"
      ],
      "text/plain": [
       "   New machine   Old\n",
       "0         42.1  42.7\n",
       "1         41.0  43.6\n",
       "2         41.3  43.8\n",
       "3         41.8  43.3\n",
       "4         42.4  42.5"
      ]
     },
     "execution_count": 80,
     "metadata": {},
     "output_type": "execute_result"
    }
   ],
   "source": [
    "sample = data[['New machine', 'Old']]\n",
    "sample.head()"
   ]
  },
  {
   "cell_type": "code",
   "execution_count": 81,
   "id": "3aa57afa",
   "metadata": {},
   "outputs": [],
   "source": [
    "# Now that we have our sample let's try the t - test\n",
    "# Like in class we will assume variances are equal"
   ]
  },
  {
   "cell_type": "code",
   "execution_count": 82,
   "id": "f434d390",
   "metadata": {},
   "outputs": [],
   "source": [
    "sample = data.sample(10, random_state=14)\n",
    "sample_a, sample_b = sample['New machine'], sample['Old']"
   ]
  },
  {
   "cell_type": "markdown",
   "id": "b349613f",
   "metadata": {},
   "source": [
    "sp/sqrt(na+nb) =\n",
    "\n",
    "In this case, **if we assume that the variances are equal** (1/2 < s1/s2 < 2) the t statistic is given by:\n",
    "\n",
    "$$t=\\frac{(\\mu_{a}-\\mu_{b})}{s_{p}\\sqrt{\\frac{1}{n_{a}}+\\frac{1}{n_{b}}}}$$\n",
    "\n",
    "with:\n",
    "\n",
    "$$s_{p}=\\sqrt{\\frac{(n_{a}-1)s_{a}^{2}+(n_{b}-1)s_{b}^{2}}{(n_{a}+n_{b}-2)}}$$"
   ]
  },
  {
   "cell_type": "code",
   "execution_count": 83,
   "id": "f0847f16",
   "metadata": {},
   "outputs": [
    {
     "name": "stdout",
     "output_type": "stream",
     "text": [
      "The mean of sample a is 42.14\n",
      "The mean of sample b is 43.23\n",
      "The standard deviation of sample a is 0.68\n",
      "The standard deviation of sample b is 0.75\n",
      "The ratio of the sample variances is 0.91 which is bigger than 0.5 and smaller than 2\n",
      "The t statistic is: -4.74\n"
     ]
    }
   ],
   "source": [
    "sample_a_mean, sample_b_mean = sample['New machine'].mean(), sample['Old'].mean()\n",
    "sample_a_std, sample_b_std = sample['New machine'].std(ddof=1), sample['Old'].std(ddof=1)\n",
    "sp = ( len(sample_a) - 1 ) * ( sample_a_std**2 ) +  ( len(sample_b) - 1 ) * ( sample_b_std**2 )\n",
    "sp /= ( len(sample_a) + len(sample_b) - 2)\n",
    "r = np.sqrt( (1/len(sample_a)) + (1/len(sample_b)) )\n",
    "t = ( sample_a_mean - sample_b_mean )/ (sp * r)\n",
    "print(\"The mean of sample a is {:.2f}\".format(sample_a_mean))\n",
    "print(\"The mean of sample b is {:.2f}\".format(sample_b_mean))\n",
    "print(\"The standard deviation of sample a is {:.2f}\".format(sample_a_std))\n",
    "print(\"The standard deviation of sample b is {:.2f}\".format(sample_b_std))\n",
    "print(\"The ratio of the sample variances is {:.2f} which is bigger than 0.5 and smaller than 2\".format(sample_a_std/sample_b_std))\n",
    "print(\"The t statistic is: {:.2f}\".format(t))"
   ]
  },
  {
   "cell_type": "markdown",
   "id": "9141edcc",
   "metadata": {},
   "source": [
    "## t - test"
   ]
  },
  {
   "cell_type": "code",
   "execution_count": 84,
   "id": "62072b13",
   "metadata": {},
   "outputs": [
    {
     "data": {
      "text/plain": [
       "-1.734063606617536"
      ]
     },
     "execution_count": 84,
     "metadata": {},
     "output_type": "execute_result"
    }
   ],
   "source": [
    "st.t.ppf((0.05),df = len(sample_a)+len(sample_b)-2)"
   ]
  },
  {
   "cell_type": "code",
   "execution_count": 85,
   "id": "ff328971",
   "metadata": {},
   "outputs": [
    {
     "data": {
      "text/plain": [
       "8.260617649942772e-05"
      ]
     },
     "execution_count": 85,
     "metadata": {},
     "output_type": "execute_result"
    }
   ],
   "source": [
    "st.t.cdf(t,df = len(sample_a)+len(sample_b)-2)"
   ]
  },
  {
   "cell_type": "markdown",
   "id": "e4698be0",
   "metadata": {},
   "source": [
    "H0 = New machine is faster than old one /\n",
    "H1 = New machine has same or slower speed than old machine"
   ]
  },
  {
   "cell_type": "code",
   "execution_count": 86,
   "id": "0cec77bc",
   "metadata": {},
   "outputs": [],
   "source": [
    "# 1 side test\n",
    "# The t value of -4.74 is lower than -1.73 we reject H0\n",
    "# The p value of 8.260617649942772e-05 is lower than 0.05 we reject H0"
   ]
  },
  {
   "cell_type": "markdown",
   "id": "ccbace83",
   "metadata": {},
   "source": [
    "In this case we reject H0, new machine is slower than older one"
   ]
  },
  {
   "cell_type": "code",
   "execution_count": null,
   "id": "08431e2b",
   "metadata": {},
   "outputs": [],
   "source": []
  },
  {
   "cell_type": "markdown",
   "id": "a94fab90",
   "metadata": {},
   "source": [
    "Matched Pairs Test - In this challenge we will compare dependent samples of data describing our Pokemon (file files_for_lab/pokemon.csv). Our goal is to see whether there is a significant difference between each Pokemon's defense and attack scores. Our hypothesis is that the defense and attack scores are equal. Compare the two columns to see if there is a statistically significant difference between them and comment your result."
   ]
  },
  {
   "cell_type": "code",
   "execution_count": 87,
   "id": "123d95e3",
   "metadata": {},
   "outputs": [
    {
     "data": {
      "text/html": [
       "<div>\n",
       "<style scoped>\n",
       "    .dataframe tbody tr th:only-of-type {\n",
       "        vertical-align: middle;\n",
       "    }\n",
       "\n",
       "    .dataframe tbody tr th {\n",
       "        vertical-align: top;\n",
       "    }\n",
       "\n",
       "    .dataframe thead th {\n",
       "        text-align: right;\n",
       "    }\n",
       "</style>\n",
       "<table border=\"1\" class=\"dataframe\">\n",
       "  <thead>\n",
       "    <tr style=\"text-align: right;\">\n",
       "      <th></th>\n",
       "      <th>#</th>\n",
       "      <th>Name</th>\n",
       "      <th>Type 1</th>\n",
       "      <th>Type 2</th>\n",
       "      <th>Total</th>\n",
       "      <th>HP</th>\n",
       "      <th>Attack</th>\n",
       "      <th>Defense</th>\n",
       "      <th>Sp. Atk</th>\n",
       "      <th>Sp. Def</th>\n",
       "      <th>Speed</th>\n",
       "      <th>Generation</th>\n",
       "      <th>Legendary</th>\n",
       "    </tr>\n",
       "  </thead>\n",
       "  <tbody>\n",
       "    <tr>\n",
       "      <th>0</th>\n",
       "      <td>1</td>\n",
       "      <td>Bulbasaur</td>\n",
       "      <td>Grass</td>\n",
       "      <td>Poison</td>\n",
       "      <td>318</td>\n",
       "      <td>45</td>\n",
       "      <td>49</td>\n",
       "      <td>49</td>\n",
       "      <td>65</td>\n",
       "      <td>65</td>\n",
       "      <td>45</td>\n",
       "      <td>1</td>\n",
       "      <td>False</td>\n",
       "    </tr>\n",
       "    <tr>\n",
       "      <th>1</th>\n",
       "      <td>2</td>\n",
       "      <td>Ivysaur</td>\n",
       "      <td>Grass</td>\n",
       "      <td>Poison</td>\n",
       "      <td>405</td>\n",
       "      <td>60</td>\n",
       "      <td>62</td>\n",
       "      <td>63</td>\n",
       "      <td>80</td>\n",
       "      <td>80</td>\n",
       "      <td>60</td>\n",
       "      <td>1</td>\n",
       "      <td>False</td>\n",
       "    </tr>\n",
       "    <tr>\n",
       "      <th>2</th>\n",
       "      <td>3</td>\n",
       "      <td>Venusaur</td>\n",
       "      <td>Grass</td>\n",
       "      <td>Poison</td>\n",
       "      <td>525</td>\n",
       "      <td>80</td>\n",
       "      <td>82</td>\n",
       "      <td>83</td>\n",
       "      <td>100</td>\n",
       "      <td>100</td>\n",
       "      <td>80</td>\n",
       "      <td>1</td>\n",
       "      <td>False</td>\n",
       "    </tr>\n",
       "    <tr>\n",
       "      <th>3</th>\n",
       "      <td>3</td>\n",
       "      <td>VenusaurMega Venusaur</td>\n",
       "      <td>Grass</td>\n",
       "      <td>Poison</td>\n",
       "      <td>625</td>\n",
       "      <td>80</td>\n",
       "      <td>100</td>\n",
       "      <td>123</td>\n",
       "      <td>122</td>\n",
       "      <td>120</td>\n",
       "      <td>80</td>\n",
       "      <td>1</td>\n",
       "      <td>False</td>\n",
       "    </tr>\n",
       "    <tr>\n",
       "      <th>4</th>\n",
       "      <td>4</td>\n",
       "      <td>Charmander</td>\n",
       "      <td>Fire</td>\n",
       "      <td>NaN</td>\n",
       "      <td>309</td>\n",
       "      <td>39</td>\n",
       "      <td>52</td>\n",
       "      <td>43</td>\n",
       "      <td>60</td>\n",
       "      <td>50</td>\n",
       "      <td>65</td>\n",
       "      <td>1</td>\n",
       "      <td>False</td>\n",
       "    </tr>\n",
       "  </tbody>\n",
       "</table>\n",
       "</div>"
      ],
      "text/plain": [
       "   #                   Name Type 1  Type 2  Total  HP  Attack  Defense  \\\n",
       "0  1              Bulbasaur  Grass  Poison    318  45      49       49   \n",
       "1  2                Ivysaur  Grass  Poison    405  60      62       63   \n",
       "2  3               Venusaur  Grass  Poison    525  80      82       83   \n",
       "3  3  VenusaurMega Venusaur  Grass  Poison    625  80     100      123   \n",
       "4  4             Charmander   Fire     NaN    309  39      52       43   \n",
       "\n",
       "   Sp. Atk  Sp. Def  Speed  Generation  Legendary  \n",
       "0       65       65     45           1      False  \n",
       "1       80       80     60           1      False  \n",
       "2      100      100     80           1      False  \n",
       "3      122      120     80           1      False  \n",
       "4       60       50     65           1      False  "
      ]
     },
     "execution_count": 87,
     "metadata": {},
     "output_type": "execute_result"
    }
   ],
   "source": [
    "data = pd.read_csv('C:/Users/JC88Main/Week7/Day2/Lab/lab-t-tests-p-values-master/files_for_lab/pokemon.csv')\n",
    "data.head()"
   ]
  },
  {
   "cell_type": "markdown",
   "id": "c9753b47",
   "metadata": {},
   "source": [
    "Case: difference between Att and Def / \n",
    "H0 = Att & Def are equal / \n",
    "H1 = Att & def are different - two side test?"
   ]
  },
  {
   "cell_type": "code",
   "execution_count": 88,
   "id": "2dab4c0b",
   "metadata": {},
   "outputs": [],
   "source": [
    "sample = data.sample(799, random_state=1)"
   ]
  },
  {
   "cell_type": "code",
   "execution_count": 89,
   "id": "062c29c4",
   "metadata": {},
   "outputs": [
    {
     "data": {
      "text/html": [
       "<div>\n",
       "<style scoped>\n",
       "    .dataframe tbody tr th:only-of-type {\n",
       "        vertical-align: middle;\n",
       "    }\n",
       "\n",
       "    .dataframe tbody tr th {\n",
       "        vertical-align: top;\n",
       "    }\n",
       "\n",
       "    .dataframe thead th {\n",
       "        text-align: right;\n",
       "    }\n",
       "</style>\n",
       "<table border=\"1\" class=\"dataframe\">\n",
       "  <thead>\n",
       "    <tr style=\"text-align: right;\">\n",
       "      <th></th>\n",
       "      <th>Defense</th>\n",
       "      <th>Attack</th>\n",
       "      <th>Difference</th>\n",
       "    </tr>\n",
       "  </thead>\n",
       "  <tbody>\n",
       "    <tr>\n",
       "      <th>8</th>\n",
       "      <td>78</td>\n",
       "      <td>104</td>\n",
       "      <td>26</td>\n",
       "    </tr>\n",
       "    <tr>\n",
       "      <th>510</th>\n",
       "      <td>75</td>\n",
       "      <td>92</td>\n",
       "      <td>17</td>\n",
       "    </tr>\n",
       "    <tr>\n",
       "      <th>175</th>\n",
       "      <td>34</td>\n",
       "      <td>46</td>\n",
       "      <td>12</td>\n",
       "    </tr>\n",
       "    <tr>\n",
       "      <th>735</th>\n",
       "      <td>58</td>\n",
       "      <td>50</td>\n",
       "      <td>-8</td>\n",
       "    </tr>\n",
       "    <tr>\n",
       "      <th>242</th>\n",
       "      <td>75</td>\n",
       "      <td>105</td>\n",
       "      <td>30</td>\n",
       "    </tr>\n",
       "    <tr>\n",
       "      <th>...</th>\n",
       "      <td>...</td>\n",
       "      <td>...</td>\n",
       "      <td>...</td>\n",
       "    </tr>\n",
       "    <tr>\n",
       "      <th>645</th>\n",
       "      <td>85</td>\n",
       "      <td>95</td>\n",
       "      <td>10</td>\n",
       "    </tr>\n",
       "    <tr>\n",
       "      <th>715</th>\n",
       "      <td>77</td>\n",
       "      <td>77</td>\n",
       "      <td>0</td>\n",
       "    </tr>\n",
       "    <tr>\n",
       "      <th>767</th>\n",
       "      <td>119</td>\n",
       "      <td>121</td>\n",
       "      <td>2</td>\n",
       "    </tr>\n",
       "    <tr>\n",
       "      <th>72</th>\n",
       "      <td>50</td>\n",
       "      <td>80</td>\n",
       "      <td>30</td>\n",
       "    </tr>\n",
       "    <tr>\n",
       "      <th>235</th>\n",
       "      <td>75</td>\n",
       "      <td>130</td>\n",
       "      <td>55</td>\n",
       "    </tr>\n",
       "  </tbody>\n",
       "</table>\n",
       "<p>799 rows × 3 columns</p>\n",
       "</div>"
      ],
      "text/plain": [
       "     Defense  Attack  Difference\n",
       "8         78     104          26\n",
       "510       75      92          17\n",
       "175       34      46          12\n",
       "735       58      50          -8\n",
       "242       75     105          30\n",
       "..       ...     ...         ...\n",
       "645       85      95          10\n",
       "715       77      77           0\n",
       "767      119     121           2\n",
       "72        50      80          30\n",
       "235       75     130          55\n",
       "\n",
       "[799 rows x 3 columns]"
      ]
     },
     "execution_count": 89,
     "metadata": {},
     "output_type": "execute_result"
    }
   ],
   "source": [
    "sample['Difference'] =sample['Attack']-sample['Defense']\n",
    "sample = sample[['Defense','Attack','Difference']]\n",
    "sample.shape\n",
    "sample"
   ]
  },
  {
   "cell_type": "code",
   "execution_count": 90,
   "id": "3a43849b",
   "metadata": {},
   "outputs": [],
   "source": [
    "# computing mean of Difference between perks"
   ]
  },
  {
   "cell_type": "code",
   "execution_count": 91,
   "id": "ca114c2c",
   "metadata": {},
   "outputs": [
    {
     "data": {
      "text/plain": [
       "(5.1439299123904885, 33.75086461456459)"
      ]
     },
     "execution_count": 91,
     "metadata": {},
     "output_type": "execute_result"
    }
   ],
   "source": [
    "sample_diff_mean, sample_diff_std = sample['Difference'].mean(), sample['Difference'].std(ddof=1)\n",
    "sample_diff_mean, sample_diff_std"
   ]
  },
  {
   "cell_type": "code",
   "execution_count": 92,
   "id": "b1b7a602",
   "metadata": {},
   "outputs": [],
   "source": [
    "# Two sided test, therefore:"
   ]
  },
  {
   "cell_type": "markdown",
   "id": "2359b613",
   "metadata": {},
   "source": [
    "Out t statistic is:\n",
    "\n",
    "$$t = \\frac{\\overline{d}}{\\frac{\\sigma}{\\sqrt{n}}}$$\n",
    "\n",
    "where $\\overline{d} = mean(sample_b - sample_a)$"
   ]
  },
  {
   "cell_type": "code",
   "execution_count": 93,
   "id": "978a4d89",
   "metadata": {},
   "outputs": [
    {
     "name": "stdout",
     "output_type": "stream",
     "text": [
      "The mean of our samples differences is: 5.14\n",
      "The standard deviation of our samples differences is: 33.75\n",
      "Our t statistics is: 4.31\n"
     ]
    }
   ],
   "source": [
    "t = sample_diff_mean / ( sample_diff_std / np.sqrt(sample.shape[0]) )\n",
    "print(\"The mean of our samples differences is: {:.2f}\".format(sample_diff_mean))\n",
    "print(\"The standard deviation of our samples differences is: {:.2f}\".format(sample_diff_std))\n",
    "print(\"Our t statistics is: {:.2f}\".format(t))"
   ]
  },
  {
   "cell_type": "code",
   "execution_count": 94,
   "id": "8eea11d4",
   "metadata": {},
   "outputs": [],
   "source": [
    "# Setting critical value with 95% of confidence interval"
   ]
  },
  {
   "cell_type": "code",
   "execution_count": 95,
   "id": "d27a581d",
   "metadata": {},
   "outputs": [
    {
     "data": {
      "text/plain": [
       "1.9629411928266054"
      ]
     },
     "execution_count": 95,
     "metadata": {},
     "output_type": "execute_result"
    }
   ],
   "source": [
    "tc = st.t.ppf(1-(0.05/2),df= sample.shape[0] - 1)\n",
    "tc"
   ]
  },
  {
   "cell_type": "code",
   "execution_count": 96,
   "id": "469725c3",
   "metadata": {},
   "outputs": [],
   "source": [
    "# t = 4.31\n",
    "# tc = 1.96\n",
    "# 4.31 > 1.96 we reject H0 Att & Def are different"
   ]
  },
  {
   "cell_type": "markdown",
   "id": "9c5b7454",
   "metadata": {},
   "source": [
    "Now with p-value"
   ]
  },
  {
   "cell_type": "code",
   "execution_count": 97,
   "id": "41cba6af",
   "metadata": {},
   "outputs": [
    {
     "data": {
      "text/plain": [
       "0.9999907389701359"
      ]
     },
     "execution_count": 97,
     "metadata": {},
     "output_type": "execute_result"
    }
   ],
   "source": [
    "st.t.cdf(t,df = sample.shape[0] - 1)"
   ]
  },
  {
   "cell_type": "markdown",
   "id": "43272f62",
   "metadata": {},
   "source": [
    "The probability to see a t value as big as this one is for the t-Student distribution is:\n",
    "\n",
    "$$P(x <=t=4.31) = 0.99999> 0.025$$\n",
    "\n",
    "we reject the H0."
   ]
  },
  {
   "cell_type": "code",
   "execution_count": 98,
   "id": "3a538fe7",
   "metadata": {},
   "outputs": [
    {
     "data": {
      "text/plain": [
       "Ttest_relResult(statistic=4.308077717509027, pvalue=1.852205972806219e-05)"
      ]
     },
     "execution_count": 98,
     "metadata": {},
     "output_type": "execute_result"
    }
   ],
   "source": [
    "st.ttest_rel(sample['Attack'],sample['Defense']) # H0 rejected"
   ]
  },
  {
   "cell_type": "code",
   "execution_count": null,
   "id": "e46c6c42",
   "metadata": {},
   "outputs": [],
   "source": []
  },
  {
   "cell_type": "markdown",
   "id": "e2dc5b4b",
   "metadata": {},
   "source": [
    "### Inferential statistics - ANOVA"
   ]
  },
  {
   "cell_type": "markdown",
   "id": "7d7004af",
   "metadata": {},
   "source": [
    "## Part1 "
   ]
  },
  {
   "cell_type": "markdown",
   "id": "077e2485",
   "metadata": {},
   "source": [
    "In this activity, we will look at another example. Your task is to understand the problem and write down all the steps to set up ANOVA. After the next lesson, we will ask you to solve this problem using Python. Here are the steps that you would need to work on: - Null hypothesis - Alternate hypothesis - Level of significance - Test statistic - P-value - F table"
   ]
  },
  {
   "cell_type": "markdown",
   "id": "7be5471b",
   "metadata": {},
   "source": [
    "## Context"
   ]
  },
  {
   "cell_type": "markdown",
   "id": "15fb663f",
   "metadata": {},
   "source": [
    "Suppose you are working as an analyst in a microprocessor chip manufacturing plant. You have been given the task of analyzing a plasma etching process with respect to changing Power (in Watts) of the plasma beam. Data was collected and provided to you to conduct statistical analysis and check if changing the power of the plasma beam has any effect on the etching rate by the machine. You will conduct ANOVA and check if there is any difference in the mean etching rate for different levels of power. You can find the data anova_lab_data.xlsx file in the files_for_lab folder"
   ]
  },
  {
   "cell_type": "markdown",
   "id": "74f8e8ad",
   "metadata": {},
   "source": [
    "## State the null hypothesis\n",
    "H0 = No difference in the meam etching rate for different levels of power."
   ]
  },
  {
   "cell_type": "markdown",
   "id": "7c441ea5",
   "metadata": {},
   "source": [
    "## State the alternate hypothesis\n",
    "H1 = Difference in the mean etching rate for different levels of power."
   ]
  },
  {
   "cell_type": "markdown",
   "id": "0e735da4",
   "metadata": {},
   "source": [
    "## What is the significance level\n",
    "0.05  ( 0.95 confidence interval)"
   ]
  },
  {
   "cell_type": "markdown",
   "id": "f605b337",
   "metadata": {},
   "source": [
    "## What are the degrees of freedom of model, error terms, and total DoF"
   ]
  },
  {
   "cell_type": "code",
   "execution_count": 99,
   "id": "4c574d8e",
   "metadata": {},
   "outputs": [],
   "source": [
    "#Number of degrees of freedom dof1:  2\n",
    "#Number of degrees of freedom dof2:  12"
   ]
  },
  {
   "cell_type": "markdown",
   "id": "452deb10",
   "metadata": {},
   "source": [
    "### Part2"
   ]
  },
  {
   "cell_type": "code",
   "execution_count": null,
   "id": "c3367bb2",
   "metadata": {},
   "outputs": [],
   "source": []
  },
  {
   "cell_type": "markdown",
   "id": "730a6081",
   "metadata": {},
   "source": [
    "## In this section, use the Python to conduct ANOVA.\n",
    "## What conclusions can you draw from the experiment and why?"
   ]
  },
  {
   "cell_type": "code",
   "execution_count": 100,
   "id": "355f4431",
   "metadata": {},
   "outputs": [
    {
     "data": {
      "text/html": [
       "<div>\n",
       "<style scoped>\n",
       "    .dataframe tbody tr th:only-of-type {\n",
       "        vertical-align: middle;\n",
       "    }\n",
       "\n",
       "    .dataframe tbody tr th {\n",
       "        vertical-align: top;\n",
       "    }\n",
       "\n",
       "    .dataframe thead th {\n",
       "        text-align: right;\n",
       "    }\n",
       "</style>\n",
       "<table border=\"1\" class=\"dataframe\">\n",
       "  <thead>\n",
       "    <tr style=\"text-align: right;\">\n",
       "      <th></th>\n",
       "      <th>Power</th>\n",
       "      <th>Etching Rate</th>\n",
       "    </tr>\n",
       "  </thead>\n",
       "  <tbody>\n",
       "    <tr>\n",
       "      <th>0</th>\n",
       "      <td>160 W</td>\n",
       "      <td>5.43</td>\n",
       "    </tr>\n",
       "    <tr>\n",
       "      <th>1</th>\n",
       "      <td>180 W</td>\n",
       "      <td>6.24</td>\n",
       "    </tr>\n",
       "    <tr>\n",
       "      <th>2</th>\n",
       "      <td>200 W</td>\n",
       "      <td>8.79</td>\n",
       "    </tr>\n",
       "    <tr>\n",
       "      <th>3</th>\n",
       "      <td>160 W</td>\n",
       "      <td>5.71</td>\n",
       "    </tr>\n",
       "    <tr>\n",
       "      <th>4</th>\n",
       "      <td>180 W</td>\n",
       "      <td>6.71</td>\n",
       "    </tr>\n",
       "  </tbody>\n",
       "</table>\n",
       "</div>"
      ],
      "text/plain": [
       "  Power   Etching Rate\n",
       "0  160 W          5.43\n",
       "1  180 W          6.24\n",
       "2  200 W          8.79\n",
       "3  160 W          5.71\n",
       "4  180 W          6.71"
      ]
     },
     "execution_count": 100,
     "metadata": {},
     "output_type": "execute_result"
    }
   ],
   "source": [
    "etching_rate = pd.read_excel('C:/Users/JC88Main/Week7/Day2/Lab/lab-t-tests-p-values-master/files_for_lab/anova_lab_data.xlsx')\n",
    "etching_rate.head()"
   ]
  },
  {
   "cell_type": "code",
   "execution_count": 101,
   "id": "02fe68dd",
   "metadata": {},
   "outputs": [],
   "source": [
    "etching_rate.columns=etching_rate.columns.str.rstrip(\" \")"
   ]
  },
  {
   "cell_type": "code",
   "execution_count": 102,
   "id": "05fcc51a",
   "metadata": {},
   "outputs": [
    {
     "data": {
      "text/plain": [
       "160 W    5\n",
       "180 W    5\n",
       "200 W    5\n",
       "Name: Power, dtype: int64"
      ]
     },
     "execution_count": 102,
     "metadata": {},
     "output_type": "execute_result"
    }
   ],
   "source": [
    "etching_rate.Power.value_counts()"
   ]
  },
  {
   "cell_type": "code",
   "execution_count": 103,
   "id": "62fc2e50",
   "metadata": {},
   "outputs": [
    {
     "name": "stdout",
     "output_type": "stream",
     "text": [
      "Number of degrees of freedom dof1:  2\n",
      "Number of degrees of freedom dof2:  12\n"
     ]
    }
   ],
   "source": [
    "dof1 = etching_rate['Power'].nunique() - 1\n",
    "dof2 = len(etching_rate) - etching_rate['Power'].nunique()\n",
    "\n",
    "print(\"Number of degrees of freedom dof1: \",dof1)\n",
    "print(\"Number of degrees of freedom dof2: \",dof2)"
   ]
  },
  {
   "cell_type": "code",
   "execution_count": 104,
   "id": "928f6382",
   "metadata": {},
   "outputs": [
    {
     "data": {
      "text/html": [
       "<div>\n",
       "<style scoped>\n",
       "    .dataframe tbody tr th:only-of-type {\n",
       "        vertical-align: middle;\n",
       "    }\n",
       "\n",
       "    .dataframe tbody tr th {\n",
       "        vertical-align: top;\n",
       "    }\n",
       "\n",
       "    .dataframe thead th {\n",
       "        text-align: right;\n",
       "    }\n",
       "</style>\n",
       "<table border=\"1\" class=\"dataframe\">\n",
       "  <thead>\n",
       "    <tr style=\"text-align: right;\">\n",
       "      <th></th>\n",
       "      <th>Power</th>\n",
       "      <th>Etching_mean_rate</th>\n",
       "      <th>Sample_size</th>\n",
       "    </tr>\n",
       "  </thead>\n",
       "  <tbody>\n",
       "    <tr>\n",
       "      <th>0</th>\n",
       "      <td>160 W</td>\n",
       "      <td>5.792</td>\n",
       "      <td>5</td>\n",
       "    </tr>\n",
       "    <tr>\n",
       "      <th>1</th>\n",
       "      <td>180 W</td>\n",
       "      <td>6.238</td>\n",
       "      <td>5</td>\n",
       "    </tr>\n",
       "    <tr>\n",
       "      <th>2</th>\n",
       "      <td>200 W</td>\n",
       "      <td>8.318</td>\n",
       "      <td>5</td>\n",
       "    </tr>\n",
       "  </tbody>\n",
       "</table>\n",
       "</div>"
      ],
      "text/plain": [
       "   Power  Etching_mean_rate  Sample_size\n",
       "0  160 W              5.792            5\n",
       "1  180 W              6.238            5\n",
       "2  200 W              8.318            5"
      ]
     },
     "execution_count": 104,
     "metadata": {},
     "output_type": "execute_result"
    }
   ],
   "source": [
    "groupped_df=etching_rate.groupby('Power')['Etching Rate'].agg(Etching_mean_rate='mean',Sample_size='count').reset_index()\n",
    "groupped_df"
   ]
  },
  {
   "cell_type": "markdown",
   "id": "4cdda8ac",
   "metadata": {},
   "source": [
    "In case of the One way ANOVA test, the statistic to compute F is given by:\n",
    "\n",
    "$$F = \\frac{\\hat{S}_{t}^{2}}{\\hat{S}_{E}^{2}}$$\n",
    "\n",
    "where:\n",
    "\n",
    "$$\\hat{S}_{t}^{2} = \\frac{SST}{(K-1)}= \\frac{\\sum_{g}n_{g}(\\bar{y}_{g}-\\bar{y})^{2}}{(K-1)}$$\n",
    "\n",
    "and:\n",
    "\n",
    "$$\\hat{S}_{E}^{2}=\\frac{SSE}{(N-K)}=\\frac{\\sum_{g}\\sum_{i}(y_{gi}-\\bar{y}_{g})^{2}}{(N-K)}$$\n",
    "\n",
    "In this expression $g$ means **group**, $i$ **value**, and $n_{g}$ is the number of observations in group $g$ and $K$ is the number of groups. Finally, the bar over $y$ means **mean**. \n",
    "\n",
    "This formula looks horrible, but let's try to understand what is each term. \n",
    "\n",
    "SST:\n",
    "\n",
    "This term computes how much it **deviates each group mean from the global mean** and add the squares of those deviations multiplied by the number of members in the group divided by the number of members minus one.\n",
    "\n",
    "SSE:\n",
    "\n",
    "This other term, computes **how much every single value of every group deviates from the group mean**.\n",
    "\n",
    "In summary, SST computes the variance of the group means from the global mean, while SSE computes the variance of the values against the global mean."
   ]
  },
  {
   "cell_type": "code",
   "execution_count": 105,
   "id": "965c467b",
   "metadata": {},
   "outputs": [
    {
     "name": "stdout",
     "output_type": "stream",
     "text": [
      "The value of S2t is 9.09\n"
     ]
    }
   ],
   "source": [
    "S2t = 0\n",
    "for power in etching_rate['Power'].unique():\n",
    "    ng = len(etching_rate[etching_rate['Power'] == power])  \n",
    "    S2t  += ( ( etching_rate[etching_rate['Power'] == power]['Etching Rate'].mean() - etching_rate['Etching Rate'].mean() ) ** 2) * ng\n",
    "S2t /= ( etching_rate['Power'].nunique() - 1 )\n",
    "print(\"The value of S2t is {:.2f}\".format(S2t))"
   ]
  },
  {
   "cell_type": "markdown",
   "id": "e297f6e0",
   "metadata": {},
   "source": [
    "Now let's go with $\\hat{S}_{E}^{2}$:"
   ]
  },
  {
   "cell_type": "code",
   "execution_count": 106,
   "id": "18686fb0",
   "metadata": {},
   "outputs": [
    {
     "name": "stdout",
     "output_type": "stream",
     "text": [
      "\n",
      "The value of S2E is 0.25\n"
     ]
    }
   ],
   "source": [
    "S2E = 0\n",
    "for power in etching_rate['Power'].unique():\n",
    "    for rate in etching_rate[etching_rate['Power'] == power]['Etching Rate']:\n",
    "        S2E += ( rate - etching_rate[etching_rate['Power'] == power]['Etching Rate'].mean() ) ** 2\n",
    "S2E /= ( len(etching_rate) - etching_rate['Power'].nunique() ) \n",
    "\n",
    "print()\n",
    "print(\"The value of S2E is {:.2f}\".format(S2E))"
   ]
  },
  {
   "cell_type": "markdown",
   "id": "a720bef1",
   "metadata": {},
   "source": [
    "Now I will compute F"
   ]
  },
  {
   "cell_type": "code",
   "execution_count": 107,
   "id": "551a9a61",
   "metadata": {},
   "outputs": [
    {
     "name": "stdout",
     "output_type": "stream",
     "text": [
      "The value of F is 36.88\n"
     ]
    }
   ],
   "source": [
    "F = S2t / S2E\n",
    "print(\"The value of F is {:.2f}\".format(F))"
   ]
  },
  {
   "cell_type": "code",
   "execution_count": 109,
   "id": "2db26e5f",
   "metadata": {},
   "outputs": [
    {
     "name": "stderr",
     "output_type": "stream",
     "text": [
      "C:\\ProgramData\\Anaconda3\\lib\\site-packages\\scipy\\stats\\stats.py:3621: F_onewayBadInputSizesWarning: at least one input has length 0\n",
      "  warnings.warn(F_onewayBadInputSizesWarning('at least one input '\n"
     ]
    },
    {
     "data": {
      "text/plain": [
       "nan"
      ]
     },
     "execution_count": 109,
     "metadata": {},
     "output_type": "execute_result"
    }
   ],
   "source": [
    "st.f_oneway(etching_rate[etching_rate['Power'] == 1]['Etching Rate'],etching_rate[etching_rate['Power'] == 2]['Etching Rate'],etching_rate[etching_rate['Power'] == 3]['Etching Rate'],etching_rate[etching_rate['Power'] == 4]['Etching Rate'],etching_rate[etching_rate['Power'] == 5]['Etching Rate'])[1]"
   ]
  },
  {
   "cell_type": "code",
   "execution_count": 110,
   "id": "00684db4",
   "metadata": {},
   "outputs": [],
   "source": [
    "# Not sure why I'm having this error.\n",
    "# could not compute F so I have no conclusion on accepting H0 or not :("
   ]
  },
  {
   "cell_type": "code",
   "execution_count": null,
   "id": "6f59bcb9",
   "metadata": {},
   "outputs": [],
   "source": []
  }
 ],
 "metadata": {
  "kernelspec": {
   "display_name": "Python 3 (ipykernel)",
   "language": "python",
   "name": "python3"
  },
  "language_info": {
   "codemirror_mode": {
    "name": "ipython",
    "version": 3
   },
   "file_extension": ".py",
   "mimetype": "text/x-python",
   "name": "python",
   "nbconvert_exporter": "python",
   "pygments_lexer": "ipython3",
   "version": "3.9.12"
  }
 },
 "nbformat": 4,
 "nbformat_minor": 5
}
